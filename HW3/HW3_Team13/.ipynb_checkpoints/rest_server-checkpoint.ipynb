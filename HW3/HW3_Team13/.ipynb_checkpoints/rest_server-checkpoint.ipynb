{
 "cells": [
  {
   "cell_type": "markdown",
   "metadata": {
    "cell_id": "caa3b42eefb140eca605122c74ec2f15",
    "deepnote_cell_type": "text-cell-h1",
    "formattedRanges": [],
    "is_collapsed": false,
    "tags": []
   },
   "source": [
    "# Redis connect"
   ]
  },
  {
   "cell_type": "code",
   "execution_count": 1,
   "metadata": {
    "cell_id": "f21d8f9e104649d88d316a016758e937",
    "deepnote_cell_type": "code",
    "deepnote_to_be_reexecuted": false,
    "execution_millis": 544,
    "execution_start": 1674031876591,
    "source_hash": "ea67f58c",
    "tags": []
   },
   "outputs": [
    {
     "name": "stdout",
     "output_type": "stream",
     "text": [
      "Redis Connected: True\n",
      "[b'0x86ac561e351:battery', b'0x86ac561e351:power']\n"
     ]
    }
   ],
   "source": [
    "import cherrypy\n",
    "import json\n",
    "import redis\n",
    "import psutil\n",
    "import uuid\n",
    "from redis.commands.json.path import Path\n",
    "import pandas as pd\n",
    "import time\n",
    "from datetime import datetime\n",
    "\n",
    "\n",
    "REDIS_HOST = 'redis-18326.c55.eu-central-1-1.ec2.cloud.redislabs.com'\n",
    "REDIS_PORT = 18326\n",
    "REDIS_USERNAME = 'default'\n",
    "REDIS_PASSWORD = '4BjSUT7diE4N72W5WPpJcP7hAH41IPc4'\n",
    "\n",
    "# Connect to Redis server\n",
    "\n",
    "redis_client = redis.Redis(\n",
    "    host=REDIS_HOST, \n",
    "    port=REDIS_PORT, \n",
    "    username=REDIS_USERNAME, \n",
    "    password=REDIS_PASSWORD)\n",
    "is_connected = redis_client.ping()\n",
    "print('Redis Connected:', is_connected)\n",
    "#redis_client.flushdb()\n",
    "keys = redis_client.keys('*')\n",
    "print(keys)\n",
    "\n",
    "\n",
    "\n"
   ]
  },
  {
   "cell_type": "markdown",
   "metadata": {
    "cell_id": "cc2d836fc3a24521a5e474138ff94ef3",
    "deepnote_cell_type": "text-cell-h1",
    "formattedRanges": [],
    "is_collapsed": false,
    "tags": []
   },
   "source": [
    "# Endpoint /devices "
   ]
  },
  {
   "cell_type": "code",
   "execution_count": 2,
   "metadata": {
    "cell_id": "56731b439acb4086b5aa47f052c821c0",
    "deepnote_cell_type": "code",
    "deepnote_to_be_reexecuted": false,
    "execution_millis": 2,
    "execution_start": 1674031877137,
    "source_hash": "2f3671e7",
    "tags": []
   },
   "outputs": [],
   "source": [
    "mac_addresses = set()\n",
    "# endpoint /devices \n",
    "# GET/devices\n",
    "# path parameters No\n",
    "# Query parameters NO\n",
    "# Response status code 200 OK\n",
    "# Response schema: mac_addresses (list of string)\n",
    "\n",
    "\n",
    "class Status(object):\n",
    "    exposed = True\n",
    "\n",
    "    def GET(self, *path, **query):\n",
    "        global mac_addresses\n",
    "        mac_addresses = set()\n",
    "        keys = redis_client.keys('*')\n",
    "        for key in keys:\n",
    "            mac_addr = str(key).split(\":\")[0]\n",
    "            mac_addr=mac_addr[2:]\n",
    "            mac_addresses.add(mac_addr)\n",
    "        #response = \"{\\\"mac_addresses\\\":\"\n",
    "        #response += str(list(mac_addresses))\n",
    "        # response += str(list(mac_addresses))\n",
    "        #response += \"}\"\n",
    "        #response=response.replace(\"\\'\", \"\\\"\")\n",
    "        dic_mac={}\n",
    "        dic_mac[\"mac_addresses\"]=list(mac_addresses)\n",
    "        response=json.dumps(dic_mac)\n",
    "        # resp = \"{mac_addresses: {} }\".format(mac_addresses)\n",
    "        #resp = \"{\" + resp + \"}\"\n",
    "        return response"
   ]
  },
  {
   "cell_type": "markdown",
   "metadata": {
    "cell_id": "ef25e400232f4a8a9a214294a59191f1",
    "deepnote_cell_type": "text-cell-h1",
    "formattedRanges": [],
    "is_collapsed": false,
    "tags": []
   },
   "source": [
    "# Endpoint /device/{mac_address}"
   ]
  },
  {
   "cell_type": "code",
   "execution_count": 3,
   "metadata": {
    "cell_id": "e0833ed0f03b44599c3d4297702df30d",
    "deepnote_cell_type": "code",
    "deepnote_to_be_reexecuted": false,
    "execution_millis": 3,
    "execution_start": 1674031877144,
    "source_hash": "ab60c22c",
    "tags": []
   },
   "outputs": [],
   "source": [
    "\n",
    "# endpoint /device/{mac_address}\n",
    "\n",
    "\n",
    "# GET/devices/{mac_address}\n",
    "# Path parameters\n",
    "#    mac_address(string, required)\n",
    "# Query Parameters\n",
    "#    from----start of the time(int,required,in ms)\n",
    "#    to-------end od the time(int,required,in ms)\n",
    "# Response status code:\n",
    "#  200 OK\n",
    "#  400 Mac address missing\n",
    "#  400 start time missing\n",
    "#  400 end time missing\n",
    "#  404 invalid Mac address\n",
    "# Response schema: \n",
    "# mac_address (string)\n",
    "# timestamps(list of integer)\n",
    "# battery_levels(list of integer)\n",
    "# power_plugged(list of integer)\n",
    "\n",
    "class TodoDetail(object):\n",
    "    exposed = True \n",
    "    #@cherrypy.tools.json_out()\n",
    "    #@cherrypy.tools.json_in()\n",
    "    \n",
    "    def GET(self, *path, **query):\n",
    "       \n",
    "           \n",
    "        path = next(iter(path))\n",
    "        \n",
    "        \n",
    "        fromtime = query.get('fromtime',None)\n",
    "        totime = query.get('totime',None)\n",
    "        \n",
    "    \n",
    "        if fromtime and totime:\n",
    "            mac_address_to_monitor = path\n",
    "            values_battery = redis_client.ts().range('{}:battery'.format(mac_address_to_monitor), fromtime, totime)\n",
    "            values_power = redis_client.ts().range('{}:power'.format(mac_address_to_monitor), fromtime, totime)\n",
    "            df_battery = pd.DataFrame(values_battery, columns=['Datetime', 'Battery'])\n",
    "            df_power = pd.DataFrame(values_power, columns=['Datetime', 'Power'])\n",
    "            \n",
    "            big_df = pd.merge(df_battery, df_power, how='inner', left_on = 'Datetime', right_on = 'Datetime')\n",
    "            \n",
    "            result_dict = {}\n",
    "            \n",
    "            result_dict[\"mac_address\"] = mac_address_to_monitor\n",
    "            result_dict[\"timestamps\"]= list(big_df['Datetime'])\n",
    "            result_dict[\"battery_levels\"]=list(big_df[\"Battery\"])\n",
    "            result_dict[\"power_plugged\"]=list(big_df[\"Power\"])\n",
    "            \n",
    "            big_df = big_df.astype({'Battery':'int'})\n",
    "            big_df = big_df.astype({'Power':'int'})\n",
    "            \n",
    "            result = json.dumps(result_dict)\n",
    "            return result\n",
    "            \n",
    "            \n",
    "            return response\n",
    "            \n",
    "        else:\n",
    "            return '''\n",
    "                <html>\n",
    "                    <body>\n",
    "                        <form method=\"get\" action=\"\">\n",
    "                            Fromtime: <input type=\"text\" name=\"fromtime\" />\n",
    "                            Totime: <input type=\"text\" name=\"totime\" />\n",
    "                            <input type=\"submit\" value=\"My button!\" />\n",
    "                        </form>\n",
    "                    </body>\n",
    "                </html>\n",
    "            '''\n",
    "            \n",
    "        \n",
    "\n",
    "        \n",
    "# DELETE/devices/{mac_address}\n",
    "# Path parameters\n",
    "#    mac_address(string, required)\n",
    "# Query Parameters NO\n",
    "\n",
    "# Response status code:\n",
    "#  200 OK\n",
    "#  400 Mac address missing\n",
    "#  404 invalid Mac address\n",
    "\n",
    "# Response schema: \n",
    "    def DELETE(self, *path, **query):\n",
    "        \n",
    "        \n",
    "        path = path[0]\n",
    "\n",
    "        mac_address_to_monitor = str(path)\n",
    "       \n",
    "        try:\n",
    "            found = redis_client.delete(mac_address_to_monitor+':battery')\n",
    "            found = redis_client.delete(mac_address_to_monitor+':power')\n",
    "        except redis.ResponseError:\n",
    "            pass\n",
    "\n",
    "        if found == 0:\n",
    "            raise cherrypy.HTTPError(404, '404 Not Found')\n",
    "\n",
    "        else:\n",
    "            return \"Mac address has been deleted from redis serves\"\n"
   ]
  },
  {
   "cell_type": "code",
   "execution_count": null,
   "metadata": {
    "cell_id": "6e910c79967946caaf0e776b8bb00417",
    "deepnote_cell_type": "code",
    "deepnote_to_be_reexecuted": false,
    "execution_millis": 251396,
    "execution_start": 1674031877150,
    "source_hash": "bf746e6e",
    "tags": []
   },
   "outputs": [
    {
     "name": "stderr",
     "output_type": "stream",
     "text": [
      "[26/Jan/2023:21:28:33] ENGINE Bus STARTING\n",
      "[26/Jan/2023:21:28:33] ENGINE Started monitor thread 'Autoreloader'.\n",
      "[26/Jan/2023:21:28:33] ENGINE Serving on http://0.0.0.0:8081\n",
      "[26/Jan/2023:21:28:33] ENGINE Bus STARTED\n"
     ]
    },
    {
     "name": "stdout",
     "output_type": "stream",
     "text": [
      "127.0.0.1 - - [26/Jan/2023:21:28:41] \"GET /devices HTTP/1.1\" 200 36 \"\" \"vscode-restclient\"\n",
      "127.0.0.1 - - [26/Jan/2023:21:28:48] \"GET /device/0x86ac561e351?fromtime=1673470855000&totime=1674248455000 HTTP/1.1\" 200 2505 \"\" \"vscode-restclient\"\n",
      "127.0.0.1 - - [26/Jan/2023:21:28:54] \"GET /device/0x86ac561e351?fromtime=1674030503000&totime=1674030507000 HTTP/1.1\" 200 93 \"\" \"vscode-restclient\"\n",
      "127.0.0.1 - - [26/Jan/2023:21:29:00] \"GET /device/0x86ac561e351?fromtime=1673470855000&totime=1674248455000 HTTP/1.1\" 200 2505 \"\" \"vscode-restclient\"\n",
      "127.0.0.1 - - [26/Jan/2023:21:29:14] \"GET /device/0x86ac561e351?fromtime=1674033192000&totime=1674033199000 HTTP/1.1\" 200 295 \"\" \"vscode-restclient\"\n",
      "127.0.0.1 - - [26/Jan/2023:21:29:41] \"GET /devices HTTP/1.1\" 200 36 \"\" \"python-requests/2.28.1\"\n"
     ]
    }
   ],
   "source": [
    "if __name__ == '__main__':\n",
    "    conf = {'/': {'request.dispatch': cherrypy.dispatch.MethodDispatcher()}}\n",
    "    cherrypy.tree.mount(Status(), '/devices', conf)\n",
    "    cherrypy.tree.mount(TodoDetail(), '/device', conf)\n",
    "    #cherrypy.tree.mount(TodoDetail(), '/device', conf)\n",
    "    cherrypy.config.update({'server.socket_host': '0.0.0.0'})\n",
    "    cherrypy.config.update({'server.socket_port': 8081})\n",
    "    cherrypy.engine.start() \n",
    "    #cherrypy.quickstart()\n",
    "    cherrypy.engine.block()\n"
   ]
  },
  {
   "cell_type": "markdown",
   "metadata": {
    "created_in_deepnote_cell": true,
    "deepnote_cell_type": "markdown",
    "tags": []
   },
   "source": [
    "<a style='text-decoration:none;line-height:16px;display:flex;color:#5B5B62;padding:10px;justify-content:end;' href='https://deepnote.com?utm_source=created-in-deepnote-cell&projectId=a2753a10-9edf-450b-a239-e31831f0d1d7' target=\"_blank\">\n",
    "<img alt='Created in deepnote.com' style='display:inline;max-height:16px;margin:0px;margin-right:7.5px;' src='data:image/svg+xml;base64,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' > </img>\n",
    "Created in <span style='font-weight:600;margin-left:4px;'>Deepnote</span></a>"
   ]
  }
 ],
 "metadata": {
  "deepnote": {},
  "deepnote_execution_queue": [],
  "deepnote_notebook_id": "11f5cb7baf96411fb1e6f17c9ede2937",
  "kernelspec": {
   "display_name": "Python 3 (ipykernel)",
   "language": "python",
   "name": "python3"
  },
  "language_info": {
   "codemirror_mode": {
    "name": "ipython",
    "version": 3
   },
   "file_extension": ".py",
   "mimetype": "text/x-python",
   "name": "python",
   "nbconvert_exporter": "python",
   "pygments_lexer": "ipython3",
   "version": "3.10.8"
  }
 },
 "nbformat": 4,
 "nbformat_minor": 1
}
